{
  "nbformat": 4,
  "nbformat_minor": 0,
  "metadata": {
    "colab": {
      "name": "numpy and pandas and matplt.ipynb",
      "provenance": [],
      "collapsed_sections": [
        "lK19BH0m6EtQ",
        "CuPfo2qgHPj0"
      ],
      "authorship_tag": "ABX9TyMZ9O0SOEt+KMcVmKh8Hkuh"
    },
    "kernelspec": {
      "name": "python3",
      "display_name": "Python 3"
    },
    "language_info": {
      "name": "python"
    }
  },
  "cells": [
    {
      "cell_type": "markdown",
      "metadata": {
        "id": "taSQXtUQN-zJ"
      },
      "source": [
        "# numpy with find-a a team\n",
        "-----------------------\n",
        "like a hell party\n",
        "\n",
        "기본적인 미적분과 선형대수의 기본을 배웁니다. \n",
        "파이썬으로 해결하는 것이지 수학을 하는 것이 아니기에 안톤의 선형대수책은 충분히 보면 좋겠습니다. \n",
        "\n",
        "\n",
        "\n"
      ]
    },
    {
      "cell_type": "code",
      "metadata": {
        "id": "Pi4EkJIFNd4P"
      },
      "source": [
        "import numpy as np\n",
        "import matplotlib.pyplot as plt"
      ],
      "execution_count": null,
      "outputs": []
    },
    {
      "cell_type": "markdown",
      "metadata": {
        "id": "ZMOkEiXNml3P"
      },
      "source": [
        "## creating arrays"
      ]
    },
    {
      "cell_type": "code",
      "metadata": {
        "id": "7X2mHh7gmh48"
      },
      "source": [
        "a1 =np.array([3,5,7,3])\n",
        "a2= np.zeros(10)\n",
        "a3 = np.ones(10)\n",
        "a4 = np.random.random(10) #0 ~1\n",
        "a5 = np.random.randn(10)# gausian normal distribution 0 1 \n",
        "a6 = np.linspace(0,10,100) #equaly space up \n",
        "a7 = np.arange(0,10,0.82) #0.82 is the space "
      ],
      "execution_count": null,
      "outputs": []
    },
    {
      "cell_type": "markdown",
      "metadata": {
        "id": "Y0IUcSxBoDqJ"
      },
      "source": [
        "## array operations"
      ]
    },
    {
      "cell_type": "code",
      "metadata": {
        "colab": {
          "base_uri": "https://localhost:8080/"
        },
        "id": "MbXi9KQUmi8H",
        "outputId": "a50375cf-08c6-43cd-8436-55f13e7fdb8d"
      },
      "source": [
        "2*a1"
      ],
      "execution_count": null,
      "outputs": [
        {
          "output_type": "execute_result",
          "data": {
            "text/plain": [
              "array([ 6, 10, 14,  6])"
            ]
          },
          "metadata": {},
          "execution_count": 6
        }
      ]
    },
    {
      "cell_type": "code",
      "metadata": {
        "colab": {
          "base_uri": "https://localhost:8080/"
        },
        "id": "T8UXnVmXqGNG",
        "outputId": "c7bbd9c9-fa90-4653-9af3-cdca3ba5d87c"
      },
      "source": [
        "1/a1"
      ],
      "execution_count": null,
      "outputs": [
        {
          "output_type": "execute_result",
          "data": {
            "text/plain": [
              "array([0.33333333, 0.2       , 0.14285714, 0.33333333])"
            ]
          },
          "metadata": {},
          "execution_count": 7
        }
      ]
    },
    {
      "cell_type": "code",
      "metadata": {
        "colab": {
          "base_uri": "https://localhost:8080/"
        },
        "id": "SfHwT4HOqNFy",
        "outputId": "d08b704f-67d0-4bca-cdf4-3697862fa71a"
      },
      "source": [
        "a1>4"
      ],
      "execution_count": null,
      "outputs": [
        {
          "output_type": "execute_result",
          "data": {
            "text/plain": [
              "array([False,  True,  True, False])"
            ]
          },
          "metadata": {},
          "execution_count": 9
        }
      ]
    },
    {
      "cell_type": "code",
      "metadata": {
        "colab": {
          "base_uri": "https://localhost:8080/",
          "height": 284
        },
        "id": "Nq9VIduErFZP",
        "outputId": "879ee3c3-05e3-4569-b431-29341219fcf9"
      },
      "source": [
        "x = np.linspace(0,1,100)\n",
        "y = x**2\n",
        "plt.plot(x,y)"
      ],
      "execution_count": null,
      "outputs": [
        {
          "output_type": "execute_result",
          "data": {
            "text/plain": [
              "[<matplotlib.lines.Line2D at 0x7ffad2940dd0>]"
            ]
          },
          "metadata": {},
          "execution_count": 10
        },
        {
          "output_type": "display_data",
          "data": {
            "image/png": "[encoded data removed]",
            "text/plain": [
              "<Figure size 432x288 with 1 Axes>"
            ]
          },
          "metadata": {
            "needs_background": "light"
          }
        }
      ]
    },
    {
      "cell_type": "code",
      "metadata": {
        "colab": {
          "base_uri": "https://localhost:8080/",
          "height": 358
        },
        "id": "FSnKv2fDqp52",
        "outputId": "4ecc0852-38a3-41ff-c62e-86d8f3ec6bfd"
      },
      "source": [
        "plt.hist(a4)"
      ],
      "execution_count": null,
      "outputs": [
        {
          "output_type": "execute_result",
          "data": {
            "text/plain": [
              "(array([2., 1., 0., 3., 0., 0., 0., 1., 1., 2.]),\n",
              " array([0.06911596, 0.14986021, 0.23060446, 0.31134871, 0.39209296,\n",
              "        0.47283721, 0.55358146, 0.63432571, 0.71506996, 0.7958142 ,\n",
              "        0.87655845]),\n",
              " <a list of 10 Patch objects>)"
            ]
          },
          "metadata": {},
          "execution_count": 11
        },
        {
          "output_type": "display_data",
          "data": {
            "image/png": "[encoded data removed]",
            "text/plain": [
              "<Figure size 432x288 with 1 Axes>"
            ]
          },
          "metadata": {
            "needs_background": "light"
          }
        }
      ]
    },
    {
      "cell_type": "code",
      "metadata": {
        "colab": {
          "base_uri": "https://localhost:8080/",
          "height": 295
        },
        "id": "I9-qHfRyti3A",
        "outputId": "72483900-abf2-41a2-99ce-178b5bc346a7"
      },
      "source": [
        "def f(x):\n",
        "  return x**2 * np.sin(x) / np.exp(-x)\n",
        "\n",
        "x = np.linspace(0,10, 1000)\n",
        "y = f(x)\n",
        "\n",
        "plt.plot(x,y)"
      ],
      "execution_count": null,
      "outputs": [
        {
          "output_type": "execute_result",
          "data": {
            "text/plain": [
              "[<matplotlib.lines.Line2D at 0x7ffad1eabed0>]"
            ]
          },
          "metadata": {},
          "execution_count": 13
        },
        {
          "output_type": "display_data",
          "data": {
            "image/png": "[encoded data removed]",
            "text/plain": [
              "<Figure size 432x288 with 1 Axes>"
            ]
          },
          "metadata": {
            "needs_background": "light"
          }
        }
      ]
    },
    {
      "cell_type": "code",
      "metadata": {
        "id": "j4uyzNSXvllu"
      },
      "source": [
        "# https://numpy.org/doc/stable/reference/routines.math.html"
      ],
      "execution_count": null,
      "outputs": []
    },
    {
      "cell_type": "code",
      "metadata": {
        "id": "J-FW6szBvmuu"
      },
      "source": [
        ""
      ],
      "execution_count": null,
      "outputs": []
    },
    {
      "cell_type": "markdown",
      "metadata": {
        "id": "vb229xY8mj-v"
      },
      "source": [
        "## array indexing/slicing"
      ]
    },
    {
      "cell_type": "code",
      "metadata": {
        "colab": {
          "base_uri": "https://localhost:8080/"
        },
        "id": "4BwLUQEFqC_P",
        "outputId": "07c703e6-ee13-448d-b161-4b0aa599148f"
      },
      "source": [
        "a1 = np.array([2,5,4,8,19])\n",
        "a1[2]"
      ],
      "execution_count": null,
      "outputs": [
        {
          "output_type": "execute_result",
          "data": {
            "text/plain": [
              "4"
            ]
          },
          "metadata": {},
          "execution_count": 15
        }
      ]
    },
    {
      "cell_type": "code",
      "metadata": {
        "colab": {
          "base_uri": "https://localhost:8080/"
        },
        "id": "0sx7ei-rxCWf",
        "outputId": "5674a972-20f0-4940-9f31-adc8afd35ee5"
      },
      "source": [
        "a1[2:]"
      ],
      "execution_count": null,
      "outputs": [
        {
          "output_type": "execute_result",
          "data": {
            "text/plain": [
              "array([ 4,  8, 19])"
            ]
          },
          "metadata": {},
          "execution_count": 16
        }
      ]
    },
    {
      "cell_type": "code",
      "metadata": {
        "colab": {
          "base_uri": "https://localhost:8080/"
        },
        "id": "EagyMCC2xEer",
        "outputId": "74d8d98d-7cb3-4dcd-9566-fdb196e39a1b"
      },
      "source": [
        "a1[:-2]"
      ],
      "execution_count": null,
      "outputs": [
        {
          "output_type": "execute_result",
          "data": {
            "text/plain": [
              "array([2, 5, 4])"
            ]
          },
          "metadata": {},
          "execution_count": 17
        }
      ]
    },
    {
      "cell_type": "code",
      "metadata": {
        "colab": {
          "base_uri": "https://localhost:8080/"
        },
        "id": "yNflaVI2xGT7",
        "outputId": "e7a4979d-c03b-401f-b8de-5eff8a4a4493"
      },
      "source": [
        "a1[1:-2]"
      ],
      "execution_count": null,
      "outputs": [
        {
          "output_type": "execute_result",
          "data": {
            "text/plain": [
              "array([5, 4])"
            ]
          },
          "metadata": {},
          "execution_count": 18
        }
      ]
    },
    {
      "cell_type": "code",
      "metadata": {
        "colab": {
          "base_uri": "https://localhost:8080/"
        },
        "id": "4_4O_TgTxerT",
        "outputId": "fbfdb4d9-b965-444a-9292-c5e066b56eec"
      },
      "source": [
        "a1>3"
      ],
      "execution_count": null,
      "outputs": [
        {
          "output_type": "execute_result",
          "data": {
            "text/plain": [
              "array([False,  True,  True,  True,  True])"
            ]
          },
          "metadata": {},
          "execution_count": 19
        }
      ]
    },
    {
      "cell_type": "code",
      "metadata": {
        "colab": {
          "base_uri": "https://localhost:8080/"
        },
        "id": "a8r6v_7Qxgn5",
        "outputId": "2ac91123-9517-4cda-e4e2-d7e5121f74e6"
      },
      "source": [
        "a1[a1>3]"
      ],
      "execution_count": null,
      "outputs": [
        {
          "output_type": "execute_result",
          "data": {
            "text/plain": [
              "array([ 5,  4,  8, 19])"
            ]
          },
          "metadata": {},
          "execution_count": 21
        }
      ]
    },
    {
      "cell_type": "code",
      "metadata": {
        "id": "9QXoEgUrxodA"
      },
      "source": [
        "names = np.array(['parkjunha','jongsung','siyun','leesonghwan','yoondohoung'])\n",
        "first_letter_s = np.vectorize(lambda s: s[0])(names)=='s'"
      ],
      "execution_count": null,
      "outputs": []
    },
    {
      "cell_type": "code",
      "metadata": {
        "colab": {
          "base_uri": "https://localhost:8080/"
        },
        "id": "Ie5bOfDxz4Cy",
        "outputId": "0cc5232f-0f31-44fc-bc96-73d350b779d2"
      },
      "source": [
        "np.vectorize(lambda s: s[0])(names)"
      ],
      "execution_count": null,
      "outputs": [
        {
          "output_type": "execute_result",
          "data": {
            "text/plain": [
              "array(['p', 'j', 's', 'l', 'y'], dtype='<U1')"
            ]
          },
          "metadata": {},
          "execution_count": 27
        }
      ]
    },
    {
      "cell_type": "code",
      "metadata": {
        "colab": {
          "base_uri": "https://localhost:8080/",
          "height": 36
        },
        "id": "7P9Ie32j0cjk",
        "outputId": "373d9e48-411f-4b59-c485-11d0eed29060"
      },
      "source": [
        "f = lambda s: s[0]\n",
        "f('parkjunha')"
      ],
      "execution_count": null,
      "outputs": [
        {
          "output_type": "execute_result",
          "data": {
            "application/vnd.google.colaboratory.intrinsic+json": {
              "type": "string"
            },
            "text/plain": [
              "'p'"
            ]
          },
          "metadata": {},
          "execution_count": 28
        }
      ]
    },
    {
      "cell_type": "code",
      "metadata": {
        "colab": {
          "base_uri": "https://localhost:8080/"
        },
        "id": "X2PKFZLA06j_",
        "outputId": "1c3f39d3-3805-4358-8fe0-ba1379bc1145"
      },
      "source": [
        "names[first_letter_s]"
      ],
      "execution_count": null,
      "outputs": [
        {
          "output_type": "execute_result",
          "data": {
            "text/plain": [
              "array(['siyun'], dtype='<U11')"
            ]
          },
          "metadata": {},
          "execution_count": 29
        }
      ]
    },
    {
      "cell_type": "code",
      "metadata": {
        "colab": {
          "base_uri": "https://localhost:8080/"
        },
        "id": "Fmq0Jre51KO6",
        "outputId": "a9b22a33-f1e9-4bc7-ea70-84456eee8085"
      },
      "source": [
        "a1[a1%4 == 0 ]"
      ],
      "execution_count": null,
      "outputs": [
        {
          "output_type": "execute_result",
          "data": {
            "text/plain": [
              "array([4, 8])"
            ]
          },
          "metadata": {},
          "execution_count": 32
        }
      ]
    },
    {
      "cell_type": "markdown",
      "metadata": {
        "id": "mn87SZF31gR8"
      },
      "source": [
        ""
      ]
    },
    {
      "cell_type": "code",
      "metadata": {
        "id": "hVToB4OW1Rna"
      },
      "source": [
        "a1 = 2*np.random.randn(10000) + 10 # 2 mean std 2 n"
      ],
      "execution_count": null,
      "outputs": []
    },
    {
      "cell_type": "code",
      "metadata": {
        "colab": {
          "base_uri": "https://localhost:8080/"
        },
        "id": "D_JlwYhB1yxq",
        "outputId": "3067a308-3ce6-4dd1-ff58-eb8ba97c3fb6"
      },
      "source": [
        "np.mean(a1)"
      ],
      "execution_count": null,
      "outputs": [
        {
          "output_type": "execute_result",
          "data": {
            "text/plain": [
              "10.025181508753294"
            ]
          },
          "metadata": {},
          "execution_count": 35
        }
      ]
    },
    {
      "cell_type": "code",
      "metadata": {
        "colab": {
          "base_uri": "https://localhost:8080/"
        },
        "id": "i67au6k714pq",
        "outputId": "10fd883c-ebdf-408a-a9c0-e297964ff588"
      },
      "source": [
        "np.std(a1)"
      ],
      "execution_count": null,
      "outputs": [
        {
          "output_type": "execute_result",
          "data": {
            "text/plain": [
              "2.028080821086119"
            ]
          },
          "metadata": {},
          "execution_count": 36
        }
      ]
    },
    {
      "cell_type": "code",
      "metadata": {
        "colab": {
          "base_uri": "https://localhost:8080/"
        },
        "id": "tIfbEdM017j1",
        "outputId": "8444b1d0-52c3-40a7-9bfa-8faf0496238b"
      },
      "source": [
        "np.percentile(a1 ,80) # 11.74 is the 80 persent of the -~80% of \n"
      ],
      "execution_count": null,
      "outputs": [
        {
          "output_type": "execute_result",
          "data": {
            "text/plain": [
              "11.742035351615986"
            ]
          },
          "metadata": {},
          "execution_count": 39
        }
      ]
    },
    {
      "cell_type": "code",
      "metadata": {
        "colab": {
          "base_uri": "https://localhost:8080/",
          "height": 284
        },
        "id": "U7pGmcep2FF8",
        "outputId": "52938909-2fd3-4ea0-ad60-19eeea5b7f20"
      },
      "source": [
        "# scipy sympy numpy \n",
        "x = np.linspace(1,10,100)\n",
        "y = 1/x**2 + np.sin(x)\n",
        "plt.plot(x,y)"
      ],
      "execution_count": null,
      "outputs": [
        {
          "output_type": "execute_result",
          "data": {
            "text/plain": [
              "[<matplotlib.lines.Line2D at 0x7ffad2451310>]"
            ]
          },
          "metadata": {},
          "execution_count": 42
        },
        {
          "output_type": "display_data",
          "data": {
            "image/png": "[encoded data removed]",
            "text/plain": [
              "<Figure size 432x288 with 1 Axes>"
            ]
          },
          "metadata": {
            "needs_background": "light"
          }
        }
      ]
    },
    {
      "cell_type": "code",
      "metadata": {
        "colab": {
          "base_uri": "https://localhost:8080/",
          "height": 284
        },
        "id": "eYB-2NMM3_NS",
        "outputId": "70704afe-e25b-4b28-f04e-2702b2e0e357"
      },
      "source": [
        "y = 1/x**2 * np.sin(x)\n",
        "plt.plot(x,y)"
      ],
      "execution_count": null,
      "outputs": [
        {
          "output_type": "execute_result",
          "data": {
            "text/plain": [
              "[<matplotlib.lines.Line2D at 0x7ffad1d8eb10>]"
            ]
          },
          "metadata": {},
          "execution_count": 44
        },
        {
          "output_type": "display_data",
          "data": {
            "image/png": "[encoded data removed]",
            "text/plain": [
              "<Figure size 432x288 with 1 Axes>"
            ]
          },
          "metadata": {
            "needs_background": "light"
          }
        }
      ]
    },
    {
      "cell_type": "code",
      "metadata": {
        "colab": {
          "base_uri": "https://localhost:8080/",
          "height": 284
        },
        "id": "Esjtud8E4NAc",
        "outputId": "c0f5f69d-08df-4e3e-ed78-df9bef7b241e"
      },
      "source": [
        "x = np.linspace(1,10,100)\n",
        "y = 1/x**2 * np.sin(x)\n",
        "dydx = np.gradient(y,x)\n",
        "plt.plot(x,y)\n",
        "plt.plot(x,dydx)"
      ],
      "execution_count": null,
      "outputs": [
        {
          "output_type": "execute_result",
          "data": {
            "text/plain": [
              "[<matplotlib.lines.Line2D at 0x7ffad1c53510>]"
            ]
          },
          "metadata": {},
          "execution_count": 45
        },
        {
          "output_type": "display_data",
          "data": {
            "image/png": "[encoded data removed]",
            "text/plain": [
              "<Figure size 432x288 with 1 Axes>"
            ]
          },
          "metadata": {
            "needs_background": "light"
          }
        }
      ]
    },
    {
      "cell_type": "code",
      "metadata": {
        "colab": {
          "base_uri": "https://localhost:8080/",
          "height": 284
        },
        "id": "pOdESemW4ty3",
        "outputId": "7af860c1-c509-4f1a-9a92-7cb064f2338e"
      },
      "source": [
        "x = np.linspace(1,10,100)\n",
        "y = 1/x**2 * np.sin(x)\n",
        "dydx = np.gradient(y,x)\n",
        "y_integral = np.cumsum(y* (x[1]-x[0])) # integral fomula y* dx(x1- x0)\n",
        "plt.plot(x,y)\n",
        "plt.plot(x,dydx)\n",
        "plt.plot(x,y_integral)"
      ],
      "execution_count": null,
      "outputs": [
        {
          "output_type": "execute_result",
          "data": {
            "text/plain": [
              "[<matplotlib.lines.Line2D at 0x7ffad1ade450>]"
            ]
          },
          "metadata": {},
          "execution_count": 49
        },
        {
          "output_type": "display_data",
          "data": {
            "image/png": "[encoded data removed]",
            "text/plain": [
              "<Figure size 432x288 with 1 Axes>"
            ]
          },
          "metadata": {
            "needs_background": "light"
          }
        }
      ]
    },
    {
      "cell_type": "code",
      "metadata": {
        "colab": {
          "base_uri": "https://localhost:8080/"
        },
        "id": "KqffuzNQ5IuP",
        "outputId": "cd45243c-7331-497f-b67a-79c7b9ff3682"
      },
      "source": [
        "np.cumsum(np.array([1,2,3,4]))"
      ],
      "execution_count": null,
      "outputs": [
        {
          "output_type": "execute_result",
          "data": {
            "text/plain": [
              "array([ 1,  3,  6, 10])"
            ]
          },
          "metadata": {},
          "execution_count": 50
        }
      ]
    },
    {
      "cell_type": "markdown",
      "metadata": {
        "id": "lK19BH0m6EtQ"
      },
      "source": [
        "### 실습 문제 1:  \n",
        "$y = exp^{-x/10}sin(x)$\n",
        "\n",
        " consider 10000 x intervals in the range [0,10]\n",
        "\n",
        "### try:\n",
        "\n",
        "1. plot the function y vers x  in the range [0,10]\n",
        "\n",
        "\n",
        "2. compute the mean and std of y for x values in [4,7]\n",
        "\n",
        "\n",
        "3. for x in the range [4,7],find the value $y_{m}$ such that 95% of y values are less than $y_{m}$ \n",
        "\n",
        "\n",
        "4. plot $dy/dx$ vers $x$\n",
        "\n",
        "5. find the locations where $dy/dx =0 $\n"
      ]
    },
    {
      "cell_type": "code",
      "metadata": {
        "colab": {
          "base_uri": "https://localhost:8080/",
          "height": 284
        },
        "id": "PM18m6KM5MJs",
        "outputId": "bebc60d8-0b7f-40a7-dc2d-9dace381f4a0"
      },
      "source": [
        "N = 10000\n",
        "x= np.linspace(0,10,N+1)\n",
        "y = np.exp(-x/10) * np.sin(x)\n",
        "plt.plot(x,y)"
      ],
      "execution_count": null,
      "outputs": [
        {
          "output_type": "execute_result",
          "data": {
            "text/plain": [
              "[<matplotlib.lines.Line2D at 0x7ffad1a14850>]"
            ]
          },
          "metadata": {},
          "execution_count": 54
        },
        {
          "output_type": "display_data",
          "data": {
            "image/png": "[encoded data removed]",
            "text/plain": [
              "<Figure size 432x288 with 1 Axes>"
            ]
          },
          "metadata": {
            "needs_background": "light"
          }
        }
      ]
    },
    {
      "cell_type": "code",
      "metadata": {
        "colab": {
          "base_uri": "https://localhost:8080/"
        },
        "id": "GFjtBAh58eeA",
        "outputId": "4f68e237-c853-4c7e-80fd-4bfc22eb8639"
      },
      "source": [
        "np.mean( y[(x>=4)*(x<=7)])\n",
        "np.std(y[(x>=4)*(x<=7)])"
      ],
      "execution_count": null,
      "outputs": [
        {
          "output_type": "execute_result",
          "data": {
            "text/plain": [
              "0.31448753875085117"
            ]
          },
          "metadata": {},
          "execution_count": 56
        }
      ]
    },
    {
      "cell_type": "code",
      "metadata": {
        "colab": {
          "base_uri": "https://localhost:8080/"
        },
        "id": "J9uKqQrZ-ZAO",
        "outputId": "4b8beb83-66fb-447d-e4e0-826be92cff58"
      },
      "source": [
        "#3\n",
        "np.percentile(y[(x>=4)*(x<=7)],95)"
      ],
      "execution_count": null,
      "outputs": [
        {
          "output_type": "execute_result",
          "data": {
            "text/plain": [
              "0.2706700401876704"
            ]
          },
          "metadata": {},
          "execution_count": 57
        }
      ]
    },
    {
      "cell_type": "code",
      "metadata": {
        "colab": {
          "base_uri": "https://localhost:8080/",
          "height": 284
        },
        "id": "C8NeQFKE_e27",
        "outputId": "b40a52a2-ce52-4b0e-91cf-628f4fae6a27"
      },
      "source": [
        "#4\n",
        "plt.plot(x, np.gradient(y,x))"
      ],
      "execution_count": null,
      "outputs": [
        {
          "output_type": "execute_result",
          "data": {
            "text/plain": [
              "[<matplotlib.lines.Line2D at 0x7ffad1b23dd0>]"
            ]
          },
          "metadata": {},
          "execution_count": 58
        },
        {
          "output_type": "display_data",
          "data": {
            "image/png": "[encoded data removed]",
            "text/plain": [
              "<Figure size 432x288 with 1 Axes>"
            ]
          },
          "metadata": {
            "needs_background": "light"
          }
        }
      ]
    },
    {
      "cell_type": "code",
      "metadata": {
        "id": "-pCDRy39_698"
      },
      "source": [
        "#5\n",
        "dydx = np.gradient(y,x)\n"
      ],
      "execution_count": null,
      "outputs": []
    },
    {
      "cell_type": "code",
      "metadata": {
        "colab": {
          "base_uri": "https://localhost:8080/"
        },
        "id": "2DVaotmQDLJY",
        "outputId": "046ee251-fa35-4239-bdf8-2c1c78938498"
      },
      "source": [
        "dydx[1:] * dydx[:-1]<0\n",
        "#0*1 1*2 2*3 ... n*n (one is - 0 , one is - n) it * with  n*n+1 value to find the -  to + and + to - "
      ],
      "execution_count": null,
      "outputs": [
        {
          "output_type": "execute_result",
          "data": {
            "text/plain": [
              "array([False, False, False, ..., False, False, False])"
            ]
          },
          "metadata": {},
          "execution_count": 61
        }
      ]
    },
    {
      "cell_type": "code",
      "metadata": {
        "colab": {
          "base_uri": "https://localhost:8080/"
        },
        "id": "Tx6TajfVD12j",
        "outputId": "4b31113c-de5e-42f1-e6f4-72bf8465e29c"
      },
      "source": [
        "x[1:][dydx[1:] * dydx[:-1]<0]"
      ],
      "execution_count": null,
      "outputs": [
        {
          "output_type": "execute_result",
          "data": {
            "text/plain": [
              "array([1.472, 4.613, 7.755])"
            ]
          },
          "metadata": {},
          "execution_count": 66
        }
      ]
    },
    {
      "cell_type": "code",
      "metadata": {
        "colab": {
          "base_uri": "https://localhost:8080/",
          "height": 339
        },
        "id": "4cM0bkzdHS3c",
        "outputId": "21ca5361-63e8-443c-8f0c-20b967a5408a"
      },
      "source": [
        "plt.plot(x,y)\n",
        "plt.plot(x, np.gradient(y,x))\n",
        "plt.hist(x[1:][dydx[1:] * dydx[:-1]<0])"
      ],
      "execution_count": null,
      "outputs": [
        {
          "output_type": "execute_result",
          "data": {
            "text/plain": [
              "(array([1., 0., 0., 0., 1., 0., 0., 0., 0., 1.]),\n",
              " array([1.472 , 2.1003, 2.7286, 3.3569, 3.9852, 4.6135, 5.2418, 5.8701,\n",
              "        6.4984, 7.1267, 7.755 ]),\n",
              " <a list of 10 Patch objects>)"
            ]
          },
          "metadata": {},
          "execution_count": 74
        },
        {
          "output_type": "display_data",
          "data": {
            "image/png": "[encoded data removed]",
            "text/plain": [
              "<Figure size 432x288 with 1 Axes>"
            ]
          },
          "metadata": {
            "needs_background": "light"
          }
        }
      ]
    },
    {
      "cell_type": "markdown",
      "metadata": {
        "id": "CuPfo2qgHPj0"
      },
      "source": [
        "# 실습문제 2:\n",
        "\n",
        "sum together every number from 0 to 10000 except for those than can be divided by 4 or 7 . Do this \n",
        "one line \n"
      ]
    },
    {
      "cell_type": "code",
      "metadata": {
        "colab": {
          "base_uri": "https://localhost:8080/"
        },
        "id": "5osEDFW2DVSu",
        "outputId": "838d3284-995e-4dd5-9007-d298bda89c15"
      },
      "source": [
        "nums = np.arange(0,10001,1)\n",
        "sum(nums[(nums%4  != 0) * (nums%7  != 0)])"
      ],
      "execution_count": null,
      "outputs": [
        {
          "output_type": "execute_result",
          "data": {
            "text/plain": [
              "32147142"
            ]
          },
          "metadata": {},
          "execution_count": 101
        }
      ]
    },
    {
      "cell_type": "markdown",
      "metadata": {
        "id": "R9HZsHvOQKdp"
      },
      "source": [
        "# 실습문제 3\n",
        "Polar coordinate system\n",
        "\n",
        "consider the flower petal $r(\\theta) = 1 + 3/4sin(3\\theta)$ for $0 \\leq \\theta \\leq 2\\pi$\n",
        "\n",
        "1. make a plot of the flower (xy point)\n",
        "2. compute the area using the calculus formula $A = \\int_{0}^{2\\pi}\\frac{1}{2}r^{2}d\\theta$ \n",
        "3. compute the arclength using the calculus formula $L = \\int_{0}^{2\\pi}\\sqrt{r^{2}+(\\frac{dr}{d\\theta})^{2}}d\\theta$"
      ]
    },
    {
      "cell_type": "code",
      "metadata": {
        "colab": {
          "base_uri": "https://localhost:8080/",
          "height": 284
        },
        "id": "pUvaUtQmQIo5",
        "outputId": "c05c5dd5-5b0e-43ce-d1d6-94db2e099c50"
      },
      "source": [
        "#1 \n",
        "theta = np.linspace(0,2*np.pi,1000)\n",
        "r = 1+ 3/4 * np.sin(3*theta)\n",
        "# plot polar coordinate system to cartesian coordinate\n",
        "x = r*np.cos(theta)\n",
        "y = r* np.sin(theta)\n",
        "plt.plot(x,y)\n"
      ],
      "execution_count": null,
      "outputs": [
        {
          "output_type": "execute_result",
          "data": {
            "text/plain": [
              "[<matplotlib.lines.Line2D at 0x7ffad098d9d0>]"
            ]
          },
          "metadata": {},
          "execution_count": 106
        },
        {
          "output_type": "display_data",
          "data": {
            "image/png": "[encoded data removed]",
            "text/plain": [
              "<Figure size 432x288 with 1 Axes>"
            ]
          },
          "metadata": {
            "needs_background": "light"
          }
        }
      ]
    },
    {
      "cell_type": "code",
      "metadata": {
        "colab": {
          "base_uri": "https://localhost:8080/"
        },
        "id": "0jrTxugtG8DY",
        "outputId": "9758e94d-afed-4bc7-8290-eaebc9d1d7c6"
      },
      "source": [
        "A = 1/2 * sum(r**2) * (theta[1]-theta[0])\n",
        "A"
      ],
      "execution_count": null,
      "outputs": [
        {
          "output_type": "execute_result",
          "data": {
            "text/plain": [
              "4.028310324802908"
            ]
          },
          "metadata": {},
          "execution_count": 104
        }
      ]
    },
    {
      "cell_type": "code",
      "metadata": {
        "colab": {
          "base_uri": "https://localhost:8080/"
        },
        "id": "5pCVjTlQpki5",
        "outputId": "5281a208-e978-4d2b-912f-2b3627c05474"
      },
      "source": [
        "sum(np.sqrt(r**2 + np.gradient(r,theta)**2)) * (theta[1]-theta[0])"
      ],
      "execution_count": null,
      "outputs": [
        {
          "output_type": "execute_result",
          "data": {
            "text/plain": [
              "11.640021569013872"
            ]
          },
          "metadata": {},
          "execution_count": 108
        }
      ]
    },
    {
      "cell_type": "markdown",
      "metadata": {
        "id": "RpvxoHPsLf0A"
      },
      "source": [
        "# 실습 4\n",
        "\n",
        "the power emitted by a blackbody is $P = A\\sigma\\epsilon T^4$ after measuring the temperature of  a star you find that $T(t)=T_0 \\frac{1}{1+e^{-kt}}$. plot the total energy emitted by the star as a functioon of time using the fact that $E(t) = \\int_{t'=0}^{t'=t}P(t')dt'$\n",
        "\n",
        "[hint:Dimensionless quantity](https://en.wikipedia.org/wiki/Dimensionless_quantity)"
      ]
    },
    {
      "cell_type": "markdown",
      "metadata": {
        "id": "l4b5woNqzLfv"
      },
      "source": [
        "$ P/A \\sigma \\epsilon =T^4$\n",
        "\n",
        "$ P/(A \\sigma \\epsilon  T_0^4)= \\left( \\frac{1}{1+e^{-kt}}\\right)^4$ from   $T(t)=T_0 \\frac{1}{1+e^{-kt}}$   \n",
        "keep kt together\n",
        "\n",
        "kt =np.linspace(0,3,100) no demention k is inverse unit of time experentional argument is dementionless\n",
        "  Power = (1/(1+np.exp(-kt)))**4\n",
        "  "
      ]
    },
    {
      "cell_type": "code",
      "metadata": {
        "colab": {
          "base_uri": "https://localhost:8080/",
          "height": 284
        },
        "id": "OSquA77Cy8Hu",
        "outputId": "5a2bae72-09a2-4393-d234-377cde7410b0"
      },
      "source": [
        "kt = np.linspace(0,3,100)\n",
        "P = (1/(1+np.exp(-kt)))**4\n",
        "plt.plot(kt,P)"
      ],
      "execution_count": 110,
      "outputs": [
        {
          "output_type": "execute_result",
          "data": {
            "text/plain": [
              "[<matplotlib.lines.Line2D at 0x7ffad1796a10>]"
            ]
          },
          "metadata": {},
          "execution_count": 110
        },
        {
          "output_type": "display_data",
          "data": {
            "image/png": "[encoded data removed]",
            "text/plain": [
              "<Figure size 432x288 with 1 Axes>"
            ]
          },
          "metadata": {
            "needs_background": "light"
          }
        }
      ]
    },
    {
      "cell_type": "code",
      "metadata": {
        "colab": {
          "base_uri": "https://localhost:8080/",
          "height": 303
        },
        "id": "mcYSj3kApfRn",
        "outputId": "892b0c14-840b-4cce-a140-8da3d89a8d17"
      },
      "source": [
        "kt = np.linspace(0,3,100)\n",
        "P = (1/(1+np.exp(-kt)))**4\n",
        "E = np.cumsum(P)*(kt[1]-kt[0])\n",
        "\n",
        "plt.plot(kt,P)\n",
        "plt.plot(kt,E)\n",
        "plt.xlabel('$kt$')\n",
        "plt.ylabel(r\"$\\left(\\frac{k}{A \\sigma \\epsilon T_0^4}\\right) E(kt)$\",fontsize=10)"
      ],
      "execution_count": 118,
      "outputs": [
        {
          "output_type": "execute_result",
          "data": {
            "text/plain": [
              "Text(0, 0.5, '$\\\\left(\\\\frac{k}{A \\\\sigma \\\\epsilon T_0^4}\\\\right) E(kt)$')"
            ]
          },
          "metadata": {},
          "execution_count": 118
        },
        {
          "output_type": "display_data",
          "data": {
            "image/png": "[encoded data removed]",
            "text/plain": [
              "<Figure size 432x288 with 1 Axes>"
            ]
          },
          "metadata": {
            "needs_background": "light"
          }
        }
      ]
    },
    {
      "cell_type": "markdown",
      "metadata": {
        "id": "B2AskeGaAaOM"
      },
      "source": [
        "# multi-dimensional arrays\n",
        "\n"
      ]
    },
    {
      "cell_type": "code",
      "metadata": {
        "colab": {
          "base_uri": "https://localhost:8080/"
        },
        "id": "VWzBfLaIAZaS",
        "outputId": "108ce4bf-d297-4dc1-a976-314312f811a0"
      },
      "source": [
        "a1 = np.array([[4,5,6],[1,2,3],[4,6,7]])\n",
        "2/a1"
      ],
      "execution_count": 119,
      "outputs": [
        {
          "output_type": "execute_result",
          "data": {
            "text/plain": [
              "array([[0.5       , 0.4       , 0.33333333],\n",
              "       [2.        , 1.        , 0.66666667],\n",
              "       [0.5       , 0.33333333, 0.28571429]])"
            ]
          },
          "metadata": {},
          "execution_count": 119
        }
      ]
    },
    {
      "cell_type": "code",
      "metadata": {
        "id": "5T7VBlU3plId",
        "colab": {
          "base_uri": "https://localhost:8080/"
        },
        "outputId": "6ce8e47f-f650-4c0d-aacf-feb48a494297"
      },
      "source": [
        "# can turn any n-dimensional array to a 1d array using ravel() method\n",
        "a1.ravel()"
      ],
      "execution_count": 120,
      "outputs": [
        {
          "output_type": "execute_result",
          "data": {
            "text/plain": [
              "array([4, 5, 6, 1, 2, 3, 4, 6, 7])"
            ]
          },
          "metadata": {},
          "execution_count": 120
        }
      ]
    },
    {
      "cell_type": "code",
      "metadata": {
        "id": "7xH8h5WQplLj",
        "colab": {
          "base_uri": "https://localhost:8080/"
        },
        "outputId": "b3805909-ba97-47f4-91c2-0df9b7c842de"
      },
      "source": [
        "a1 > 5"
      ],
      "execution_count": 121,
      "outputs": [
        {
          "output_type": "execute_result",
          "data": {
            "text/plain": [
              "array([[False, False,  True],\n",
              "       [False, False, False],\n",
              "       [False,  True,  True]])"
            ]
          },
          "metadata": {},
          "execution_count": 121
        }
      ]
    },
    {
      "cell_type": "code",
      "metadata": {
        "id": "aMG5GmsIplPE",
        "colab": {
          "base_uri": "https://localhost:8080/"
        },
        "outputId": "da94edba-2b0f-4cd0-abb6-5e20c01c7b4f"
      },
      "source": [
        "a2 = np.random.randn(3,3)\n",
        "a2"
      ],
      "execution_count": 122,
      "outputs": [
        {
          "output_type": "execute_result",
          "data": {
            "text/plain": [
              "array([[ 1.1919382 ,  0.98210732, -0.31586118],\n",
              "       [ 0.61003417,  0.56493727, -1.27221592],\n",
              "       [ 2.05019837, -1.44290217,  0.81940815]])"
            ]
          },
          "metadata": {},
          "execution_count": 122
        }
      ]
    },
    {
      "cell_type": "code",
      "metadata": {
        "id": "Zl92-vxzplSU",
        "colab": {
          "base_uri": "https://localhost:8080/"
        },
        "outputId": "0a84acfc-5db5-4d76-bde2-9ee7ab7fc831"
      },
      "source": [
        "a2[a1>5]"
      ],
      "execution_count": 123,
      "outputs": [
        {
          "output_type": "execute_result",
          "data": {
            "text/plain": [
              "array([-0.31586118, -1.44290217,  0.81940815])"
            ]
          },
          "metadata": {},
          "execution_count": 123
        }
      ]
    },
    {
      "cell_type": "code",
      "metadata": {
        "colab": {
          "base_uri": "https://localhost:8080/"
        },
        "id": "kBLLcnEsBWDG",
        "outputId": "4776539b-5fb5-4110-9f21-f14d70c19548"
      },
      "source": [
        "a1"
      ],
      "execution_count": 126,
      "outputs": [
        {
          "output_type": "execute_result",
          "data": {
            "text/plain": [
              "array([[4, 5, 6],\n",
              "       [1, 2, 3],\n",
              "       [4, 6, 7]])"
            ]
          },
          "metadata": {},
          "execution_count": 126
        }
      ]
    },
    {
      "cell_type": "code",
      "metadata": {
        "colab": {
          "base_uri": "https://localhost:8080/"
        },
        "id": "WSKds1rGBDM5",
        "outputId": "765cba35-ea68-47ca-b996-c48a88030aed"
      },
      "source": [
        "a1[0]"
      ],
      "execution_count": 124,
      "outputs": [
        {
          "output_type": "execute_result",
          "data": {
            "text/plain": [
              "array([4, 5, 6])"
            ]
          },
          "metadata": {},
          "execution_count": 124
        }
      ]
    },
    {
      "cell_type": "code",
      "metadata": {
        "colab": {
          "base_uri": "https://localhost:8080/"
        },
        "id": "oTb933rGBOWn",
        "outputId": "5e60b28a-b1ac-45e2-e28a-cb846127d1c5"
      },
      "source": [
        "a1[:,0]"
      ],
      "execution_count": 125,
      "outputs": [
        {
          "output_type": "execute_result",
          "data": {
            "text/plain": [
              "array([4, 1, 4])"
            ]
          },
          "metadata": {},
          "execution_count": 125
        }
      ]
    },
    {
      "cell_type": "markdown",
      "metadata": {
        "id": "ZDO7_cRvBf7D"
      },
      "source": [
        "2d functions"
      ]
    },
    {
      "cell_type": "code",
      "metadata": {
        "id": "OAJ971ltBOS9"
      },
      "source": [
        "x = np.linspace(0,10,1000)\n",
        "y = np.linspace(0,5,1000)"
      ],
      "execution_count": 127,
      "outputs": []
    },
    {
      "cell_type": "code",
      "metadata": {
        "id": "_FTYN4jlBOQc"
      },
      "source": [
        "# the length have to be same ! you know the rule ! \n",
        "x = np.linspace(0,10,1000)\n",
        "y = np.linspace(0,10,1000)\n",
        "# meshgrid!!! \n",
        "xv ,yv = np.meshgrid(x,y)"
      ],
      "execution_count": 128,
      "outputs": []
    },
    {
      "cell_type": "code",
      "metadata": {
        "colab": {
          "base_uri": "https://localhost:8080/"
        },
        "id": "PbFd-QY7BONR",
        "outputId": "ce959d64-8e31-4dc4-b260-1d42d255e32c"
      },
      "source": [
        "xv#columns"
      ],
      "execution_count": 129,
      "outputs": [
        {
          "output_type": "execute_result",
          "data": {
            "text/plain": [
              "array([[ 0.        ,  0.01001001,  0.02002002, ...,  9.97997998,\n",
              "         9.98998999, 10.        ],\n",
              "       [ 0.        ,  0.01001001,  0.02002002, ...,  9.97997998,\n",
              "         9.98998999, 10.        ],\n",
              "       [ 0.        ,  0.01001001,  0.02002002, ...,  9.97997998,\n",
              "         9.98998999, 10.        ],\n",
              "       ...,\n",
              "       [ 0.        ,  0.01001001,  0.02002002, ...,  9.97997998,\n",
              "         9.98998999, 10.        ],\n",
              "       [ 0.        ,  0.01001001,  0.02002002, ...,  9.97997998,\n",
              "         9.98998999, 10.        ],\n",
              "       [ 0.        ,  0.01001001,  0.02002002, ...,  9.97997998,\n",
              "         9.98998999, 10.        ]])"
            ]
          },
          "metadata": {},
          "execution_count": 129
        }
      ]
    },
    {
      "cell_type": "code",
      "metadata": {
        "colab": {
          "base_uri": "https://localhost:8080/"
        },
        "id": "d72RwmA0BOKb",
        "outputId": "e4ff3a49-5fce-433d-8606-5b8934d9ac58"
      },
      "source": [
        "yv# rows "
      ],
      "execution_count": 130,
      "outputs": [
        {
          "output_type": "execute_result",
          "data": {
            "text/plain": [
              "array([[ 0.        ,  0.        ,  0.        , ...,  0.        ,\n",
              "         0.        ,  0.        ],\n",
              "       [ 0.01001001,  0.01001001,  0.01001001, ...,  0.01001001,\n",
              "         0.01001001,  0.01001001],\n",
              "       [ 0.02002002,  0.02002002,  0.02002002, ...,  0.02002002,\n",
              "         0.02002002,  0.02002002],\n",
              "       ...,\n",
              "       [ 9.97997998,  9.97997998,  9.97997998, ...,  9.97997998,\n",
              "         9.97997998,  9.97997998],\n",
              "       [ 9.98998999,  9.98998999,  9.98998999, ...,  9.98998999,\n",
              "         9.98998999,  9.98998999],\n",
              "       [10.        , 10.        , 10.        , ..., 10.        ,\n",
              "        10.        , 10.        ]])"
            ]
          },
          "metadata": {},
          "execution_count": 130
        }
      ]
    },
    {
      "cell_type": "code",
      "metadata": {
        "id": "6c2_0oQ4BOHh"
      },
      "source": [
        "zv= xv**2+ yv**2"
      ],
      "execution_count": 131,
      "outputs": []
    },
    {
      "cell_type": "code",
      "metadata": {
        "colab": {
          "base_uri": "https://localhost:8080/",
          "height": 288
        },
        "id": "LwugLdehBOEI",
        "outputId": "f2d0d51f-1818-40af-afcc-543199bd6e2e"
      },
      "source": [
        "plt.contourf(xv,yv,zv,levels=40)\n",
        "plt.colorbar()"
      ],
      "execution_count": 133,
      "outputs": [
        {
          "output_type": "execute_result",
          "data": {
            "text/plain": [
              "<matplotlib.colorbar.Colorbar at 0x7ffad16e2910>"
            ]
          },
          "metadata": {},
          "execution_count": 133
        },
        {
          "output_type": "display_data",
          "data": {
            "image/png": "[encoded data removed]",
            "text/plain": [
              "<Figure size 432x288 with 2 Axes>"
            ]
          },
          "metadata": {
            "needs_background": "light"
          }
        }
      ]
    },
    {
      "cell_type": "markdown",
      "metadata": {
        "id": "XWdy93XWC9KS"
      },
      "source": [
        "#basic linear algebra \n",
        "\n",
        "\n",
        "scipy \n",
        "we will do numpy\n",
        "## matrix opeation"
      ]
    },
    {
      "cell_type": "code",
      "metadata": {
        "id": "fzXuNtvrBOBN"
      },
      "source": [
        "A = np.array([[3,2,1],[5,-5,4],[6,0,1]])\n",
        "b1 = np.array([1,2,3])\n",
        "b2 = np.array([-1,2,-5])"
      ],
      "execution_count": 144,
      "outputs": []
    },
    {
      "cell_type": "code",
      "metadata": {
        "colab": {
          "base_uri": "https://localhost:8080/"
        },
        "id": "8UpilxKoBN-X",
        "outputId": "dd9bdc18-4e2f-46c1-e447-28368830862d"
      },
      "source": [
        "A"
      ],
      "execution_count": 145,
      "outputs": [
        {
          "output_type": "execute_result",
          "data": {
            "text/plain": [
              "array([[ 3,  2,  1],\n",
              "       [ 5, -5,  4],\n",
              "       [ 6,  0,  1]])"
            ]
          },
          "metadata": {},
          "execution_count": 145
        }
      ]
    },
    {
      "cell_type": "code",
      "metadata": {
        "id": "UvAlpJxHplVL",
        "colab": {
          "base_uri": "https://localhost:8080/"
        },
        "outputId": "fdb3c76d-102f-4933-e420-85520d4ceb10"
      },
      "source": [
        "b1"
      ],
      "execution_count": 146,
      "outputs": [
        {
          "output_type": "execute_result",
          "data": {
            "text/plain": [
              "array([1, 2, 3])"
            ]
          },
          "metadata": {},
          "execution_count": 146
        }
      ]
    },
    {
      "cell_type": "code",
      "metadata": {
        "id": "IAwMuyTkplYd",
        "colab": {
          "base_uri": "https://localhost:8080/"
        },
        "outputId": "b528220d-7545-4167-84fc-b1e01da34ced"
      },
      "source": [
        "\n",
        "A@b1"
      ],
      "execution_count": 147,
      "outputs": [
        {
          "output_type": "execute_result",
          "data": {
            "text/plain": [
              "array([10,  7,  9])"
            ]
          },
          "metadata": {},
          "execution_count": 147
        }
      ]
    },
    {
      "cell_type": "code",
      "metadata": {
        "colab": {
          "base_uri": "https://localhost:8080/"
        },
        "id": "57eCynzUDdLB",
        "outputId": "0e84369c-b6fc-4681-bfac-9226ec6834ca"
      },
      "source": [
        "A.T"
      ],
      "execution_count": 148,
      "outputs": [
        {
          "output_type": "execute_result",
          "data": {
            "text/plain": [
              "array([[ 3,  5,  6],\n",
              "       [ 2, -5,  0],\n",
              "       [ 1,  4,  1]])"
            ]
          },
          "metadata": {},
          "execution_count": 148
        }
      ]
    },
    {
      "cell_type": "code",
      "metadata": {
        "colab": {
          "base_uri": "https://localhost:8080/"
        },
        "id": "NYqnVZ_XDdYA",
        "outputId": "bc374e12-5949-47a9-dd11-11e5dace66ab"
      },
      "source": [
        "np.dot(b1,b2)"
      ],
      "execution_count": 149,
      "outputs": [
        {
          "output_type": "execute_result",
          "data": {
            "text/plain": [
              "-12"
            ]
          },
          "metadata": {},
          "execution_count": 149
        }
      ]
    },
    {
      "cell_type": "code",
      "metadata": {
        "colab": {
          "base_uri": "https://localhost:8080/"
        },
        "id": "XBsCD7p2DdbU",
        "outputId": "41341488-5949-4377-8640-dcc5f66a234d"
      },
      "source": [
        "np.cross(b1,b2)"
      ],
      "execution_count": 150,
      "outputs": [
        {
          "output_type": "execute_result",
          "data": {
            "text/plain": [
              "array([-16,   2,   4])"
            ]
          },
          "metadata": {},
          "execution_count": 150
        }
      ]
    },
    {
      "cell_type": "markdown",
      "metadata": {
        "id": "TQ_yISc0ECol"
      },
      "source": [
        "$3x+ 2y+z =4$  \n",
        "$5x-5y+4z=3$  \n",
        "$6x+z=0$  \n",
        "\n"
      ]
    },
    {
      "cell_type": "code",
      "metadata": {
        "id": "cvJ9mdeODdek"
      },
      "source": [
        "A= np.array([[3,2,1],[5,-5,4],[6,0,1]])\n",
        "c = np.array([4,3,0])"
      ],
      "execution_count": 153,
      "outputs": []
    },
    {
      "cell_type": "code",
      "metadata": {
        "colab": {
          "base_uri": "https://localhost:8080/"
        },
        "id": "goIjiLXjDdhe",
        "outputId": "935c5d8b-31dc-4408-88ae-0dbebaf26c7a"
      },
      "source": [
        "np.linalg.solve(A,c)"
      ],
      "execution_count": 154,
      "outputs": [
        {
          "output_type": "execute_result",
          "data": {
            "text/plain": [
              "array([-0.49056604,  1.26415094,  2.94339623])"
            ]
          },
          "metadata": {},
          "execution_count": 154
        }
      ]
    },
    {
      "cell_type": "code",
      "metadata": {
        "colab": {
          "base_uri": "https://localhost:8080/"
        },
        "id": "vXWcrbVQDdky",
        "outputId": "013ed367-125d-4041-d661-6871043f02e8"
      },
      "source": [
        "# Eigenvalues\n",
        "A= np.array([[4,2,2],[2,4,2],[2,2,4]])\n",
        "np.linalg.eig(A)\n",
        "# value and vector"
      ],
      "execution_count": 156,
      "outputs": [
        {
          "output_type": "execute_result",
          "data": {
            "text/plain": [
              "(array([2., 8., 2.]), array([[-0.81649658,  0.57735027,  0.50669854],\n",
              "        [ 0.40824829,  0.57735027, -0.80782419],\n",
              "        [ 0.40824829,  0.57735027,  0.30112565]]))"
            ]
          },
          "metadata": {},
          "execution_count": 156
        }
      ]
    },
    {
      "cell_type": "code",
      "metadata": {
        "id": "mbodb3ubDdn6"
      },
      "source": [
        "w, v =np.linalg.eig(A)"
      ],
      "execution_count": 157,
      "outputs": []
    },
    {
      "cell_type": "code",
      "metadata": {
        "colab": {
          "base_uri": "https://localhost:8080/"
        },
        "id": "IaqXty1iDdq3",
        "outputId": "acb40506-950f-41c7-ac1f-87e176f9210c"
      },
      "source": [
        "v"
      ],
      "execution_count": 158,
      "outputs": [
        {
          "output_type": "execute_result",
          "data": {
            "text/plain": [
              "array([[-0.81649658,  0.57735027,  0.50669854],\n",
              "       [ 0.40824829,  0.57735027, -0.80782419],\n",
              "       [ 0.40824829,  0.57735027,  0.30112565]])"
            ]
          },
          "metadata": {},
          "execution_count": 158
        }
      ]
    },
    {
      "cell_type": "code",
      "metadata": {
        "colab": {
          "base_uri": "https://localhost:8080/"
        },
        "id": "L8BwOzoIDdtp",
        "outputId": "41c08e68-e534-43b1-df0b-3f038ea0620b"
      },
      "source": [
        "v1 = v[:,0]\n",
        "v1"
      ],
      "execution_count": 159,
      "outputs": [
        {
          "output_type": "execute_result",
          "data": {
            "text/plain": [
              "array([-0.81649658,  0.40824829,  0.40824829])"
            ]
          },
          "metadata": {},
          "execution_count": 159
        }
      ]
    },
    {
      "cell_type": "code",
      "metadata": {
        "colab": {
          "base_uri": "https://localhost:8080/"
        },
        "id": "dnFbwYtJDdxF",
        "outputId": "e4272193-e8dd-4310-c131-bcaddb770171"
      },
      "source": [
        "A@v1"
      ],
      "execution_count": 160,
      "outputs": [
        {
          "output_type": "execute_result",
          "data": {
            "text/plain": [
              "array([-1.63299316,  0.81649658,  0.81649658])"
            ]
          },
          "metadata": {},
          "execution_count": 160
        }
      ]
    },
    {
      "cell_type": "code",
      "metadata": {
        "colab": {
          "base_uri": "https://localhost:8080/"
        },
        "id": "o--9cxwKDdzt",
        "outputId": "442131b2-a595-4769-f8f4-ce91a56005ed"
      },
      "source": [
        "w[0] * v1"
      ],
      "execution_count": 161,
      "outputs": [
        {
          "output_type": "execute_result",
          "data": {
            "text/plain": [
              "array([-1.63299316,  0.81649658,  0.81649658])"
            ]
          },
          "metadata": {},
          "execution_count": 161
        }
      ]
    },
    {
      "cell_type": "markdown",
      "metadata": {
        "id": "LQ8cnV6XF3UY"
      },
      "source": [
        "## 실습 1 \n",
        "let $f(x,y) = e^{-(x^2+y^2)}sin(x)$ for $-2\\leq x \\leq 2$ and $-2 \\leq y \\leq 2$\n",
        "\n",
        "1. make a contour plot of $f$\n",
        "2. find the volume $|f(x,y)|$ in the specified x and y range\n",
        "3. find the volume $|f(x,y)|$  only in the region where $\\sqrt{x^2+y^2} > 0.5$\n"
      ]
    },
    {
      "cell_type": "code",
      "metadata": {
        "colab": {
          "base_uri": "https://localhost:8080/",
          "height": 288
        },
        "id": "R-g9FKg6Dd20",
        "outputId": "cc3a8892-80b1-4716-e53d-5661c7f9696a"
      },
      "source": [
        "x = np.linspace(-2,2,1000)\n",
        "y = np.linspace(-2,2,1000)\n",
        "xv, yv = np.meshgrid(x,y)\n",
        "f = np.exp(-(xv**2+yv**2)) * np.sin(xv)\n",
        "plt.contourf(xv,yv,f,levels =100)\n",
        "plt.colorbar()"
      ],
      "execution_count": 168,
      "outputs": [
        {
          "output_type": "execute_result",
          "data": {
            "text/plain": [
              "<matplotlib.colorbar.Colorbar at 0x7ffacfba5710>"
            ]
          },
          "metadata": {},
          "execution_count": 168
        },
        {
          "output_type": "display_data",
          "data": {
            "image/png": "[encoded data removed]",
            "text/plain": [
              "<Figure size 432x288 with 2 Axes>"
            ]
          },
          "metadata": {
            "needs_background": "light"
          }
        }
      ]
    },
    {
      "cell_type": "code",
      "metadata": {
        "colab": {
          "base_uri": "https://localhost:8080/"
        },
        "id": "Q9d2mONcDd55",
        "outputId": "cda10743-120a-488c-ee8d-618d8d800be5"
      },
      "source": [
        "f"
      ],
      "execution_count": 169,
      "outputs": [
        {
          "output_type": "execute_result",
          "data": {
            "text/plain": [
              "array([[-0.00030504, -0.00031052, -0.00031609, ...,  0.00031609,\n",
              "         0.00031052,  0.00030504],\n",
              "       [-0.00030996, -0.00031553, -0.00032119, ...,  0.00032119,\n",
              "         0.00031553,  0.00030996],\n",
              "       [-0.00031494, -0.00032061, -0.00032636, ...,  0.00032636,\n",
              "         0.00032061,  0.00031494],\n",
              "       ...,\n",
              "       [-0.00031494, -0.00032061, -0.00032636, ...,  0.00032636,\n",
              "         0.00032061,  0.00031494],\n",
              "       [-0.00030996, -0.00031553, -0.00032119, ...,  0.00032119,\n",
              "         0.00031553,  0.00030996],\n",
              "       [-0.00030504, -0.00031052, -0.00031609, ...,  0.00031609,\n",
              "         0.00031052,  0.00030504]])"
            ]
          },
          "metadata": {},
          "execution_count": 169
        }
      ]
    },
    {
      "cell_type": "code",
      "metadata": {
        "colab": {
          "base_uri": "https://localhost:8080/"
        },
        "id": "0PMZnS-vDd8j",
        "outputId": "e9347e88-1a11-4ed4-a717-0566d59ee237"
      },
      "source": [
        "#2 f.ravel().sum()\n",
        "np.abs(f.ravel()).sum()*np.diff(x)[0]*np.diff(y)[0]"
      ],
      "execution_count": 172,
      "outputs": [
        {
          "output_type": "execute_result",
          "data": {
            "text/plain": [
              "1.4861858145124311"
            ]
          },
          "metadata": {},
          "execution_count": 172
        }
      ]
    },
    {
      "cell_type": "code",
      "metadata": {
        "colab": {
          "base_uri": "https://localhost:8080/"
        },
        "id": "1jS2V7kIDd_g",
        "outputId": "6fe47aed-9541-4017-caa0-1e89fae20d13"
      },
      "source": [
        "# 3 \n",
        "np.abs(f[xv**2 + yv**2 >0.5**2].ravel()).sum()*np.diff(x)[0]*np.diff(y)[0]\n",
        "# we can't do it on hand "
      ],
      "execution_count": 175,
      "outputs": [
        {
          "output_type": "execute_result",
          "data": {
            "text/plain": [
              "1.3447652930203164"
            ]
          },
          "metadata": {},
          "execution_count": 175
        }
      ]
    },
    {
      "cell_type": "markdown",
      "metadata": {
        "id": "Drk21B1vNZIk"
      },
      "source": [
        "# 실습 2 \n",
        "\n",
        "$3V_1+2V_2+3V_3+10V_4 = 4$  \n",
        "$2V_1-2V_2+5V_3+8V_4 = 1$  \n",
        "$3V_1+3V_2+4V_3+9V_4 = 3$  \n",
        "$3V_1+4V_2-3V_3-7V_4 = 2$  \n",
        "find all the voltages"
      ]
    },
    {
      "cell_type": "code",
      "metadata": {
        "colab": {
          "base_uri": "https://localhost:8080/"
        },
        "id": "nOtRJurKMHWy",
        "outputId": "bb4c8edd-eb54-4299-b7ab-9aa4480d3a49"
      },
      "source": [
        "A =np.array([[3,2,3,10],[2,-2,5,8],[3,3,4,9],[3,4,-3,-7]])\n",
        "C = np.array([4,1,3,2])\n",
        "np.linalg.solve(A,C)"
      ],
      "execution_count": 177,
      "outputs": [
        {
          "output_type": "execute_result",
          "data": {
            "text/plain": [
              "array([ 0.78378378,  0.03603604, -0.67567568,  0.36036036])"
            ]
          },
          "metadata": {},
          "execution_count": 177
        }
      ]
    },
    {
      "cell_type": "markdown",
      "metadata": {
        "id": "8IBVcCiwWGj5"
      },
      "source": [
        "실습 3  \n",
        "An electric field is given by   \n",
        "\n",
        "$ \\vec{E}(x,t) = E_0cos(z-t)\\hat{x} + 2E_0cos(z-t+\\pi/2)\\hat{y}$  \n",
        "1. find the magnetic field for all $z\\in [0,4\\pi] $ and $t \\in [0,10]$ using $c\\vec{B}(z,t) = \\vec{z}\\times\\vec{E}(z,t)$\n",
        "2. compute the pointing vector $\\vec{S} = \\vec{E} \\times \\vec{B}$ for all $z$ and $t$\n",
        "\n"
      ]
    },
    {
      "cell_type": "code",
      "metadata": {
        "id": "MOuG0c6nMHZl"
      },
      "source": [
        "\n",
        "\n",
        "z = np.linspace(0, 4*np.pi, 100)\n",
        "t = np.linspace(0, 10, 100)\n",
        "\n",
        "tv, zv = np.meshgrid(t, z)\n",
        "\n",
        "Ex = np.cos(zv-tv)\n",
        "Ey = 2*np.cos(zv-tv+np.pi/2)\n",
        "Ez = 0*zv\n",
        "\n"
      ],
      "execution_count": 165,
      "outputs": []
    },
    {
      "cell_type": "code",
      "metadata": {
        "id": "OCjM_8ecMHcp"
      },
      "source": [
        "plt.plot(t, Ex[0])\n",
        "plt.plot(t, Ey[0])"
      ],
      "execution_count": 165,
      "outputs": []
    },
    {
      "cell_type": "code",
      "metadata": {
        "id": "4hljyhqpMHfY"
      },
      "source": [
        "plt.plot(Ex[:,0])"
      ],
      "execution_count": 165,
      "outputs": []
    },
    {
      "cell_type": "code",
      "metadata": {
        "id": "beYVC8GaMHh7"
      },
      "source": [
        "E = np.array([Ex, Ey, Ez])\n",
        "E = np.swapaxes(E, 0, -1)"
      ],
      "execution_count": 165,
      "outputs": []
    },
    {
      "cell_type": "code",
      "metadata": {
        "id": "nK8nMo1yMHku"
      },
      "source": [
        "B = np.cross(np.array([0,0,1]), E)\n",
        "E = np.swapaxes(E, 0, -1)\n",
        "B = np.swapaxes(B, 0, -1)"
      ],
      "execution_count": 165,
      "outputs": []
    },
    {
      "cell_type": "code",
      "metadata": {
        "id": "4gxZ2n7sMHnH"
      },
      "source": [
        "\n",
        "Bx, By, Bz = B\n",
        "\n"
      ],
      "execution_count": 165,
      "outputs": []
    },
    {
      "cell_type": "code",
      "metadata": {
        "id": "elCNeB4MMHvL"
      },
      "source": [
        "plt.plot(t,Ey[0])\n",
        "plt.plot(t,Bx[0])"
      ],
      "execution_count": 165,
      "outputs": []
    },
    {
      "cell_type": "code",
      "metadata": {
        "id": "epdqICk6MHww"
      },
      "source": [
        "S = np.cross(np.swapaxes(E, 0, -1), np.swapaxes(B, 0, -1))\n",
        "S = np.swapaxes(S, 0, -1)\n",
        "Sx, Sy, Sz = S"
      ],
      "execution_count": 165,
      "outputs": []
    },
    {
      "cell_type": "code",
      "metadata": {
        "id": "w3F46AY0MHyc"
      },
      "source": [
        "plt.plot(Sz[0])"
      ],
      "execution_count": 165,
      "outputs": []
    },
    {
      "cell_type": "code",
      "metadata": {
        "id": "gdVIG-o1MH0R"
      },
      "source": [
        ""
      ],
      "execution_count": 165,
      "outputs": []
    },
    {
      "cell_type": "code",
      "metadata": {
        "id": "Gw7B7BgyMH2M"
      },
      "source": [
        ""
      ],
      "execution_count": null,
      "outputs": []
    },
    {
      "cell_type": "markdown",
      "metadata": {
        "id": "cd2IutRReNLA"
      },
      "source": [
        ""
      ]
    },
    {
      "cell_type": "markdown",
      "metadata": {
        "id": "Kw__uo5PKTm9"
      },
      "source": [
        "#pandas 1.0\n",
        "-------------------\n",
        "pega 님의 블로그 내용을 보고 하나씩 해보는 중입니다. \n",
        "다들 한번따라해봅시다. \n"
      ]
    },
    {
      "cell_type": "code",
      "metadata": {
        "colab": {
          "base_uri": "https://localhost:8080/"
        },
        "id": "qJ2UVX_BKVwZ",
        "outputId": "37b03317-68fb-4921-bbb0-e813f8d1d560"
      },
      "source": [
        "pip install pandas"
      ],
      "execution_count": 1,
      "outputs": [
        {
          "output_type": "stream",
          "name": "stdout",
          "text": [
            "Requirement already satisfied: pandas in /usr/local/lib/python3.7/dist-packages (1.1.5)\n",
            "Requirement already satisfied: pytz>=2017.2 in /usr/local/lib/python3.7/dist-packages (from pandas) (2018.9)\n",
            "Requirement already satisfied: numpy>=1.15.4 in /usr/local/lib/python3.7/dist-packages (from pandas) (1.19.5)\n",
            "Requirement already satisfied: python-dateutil>=2.7.3 in /usr/local/lib/python3.7/dist-packages (from pandas) (2.8.2)\n",
            "Requirement already satisfied: six>=1.5 in /usr/local/lib/python3.7/dist-packages (from python-dateutil>=2.7.3->pandas) (1.15.0)\n"
          ]
        }
      ]
    },
    {
      "cell_type": "code",
      "metadata": {
        "colab": {
          "base_uri": "https://localhost:8080/"
        },
        "id": "DUJgbOe8KXBL",
        "outputId": "bf2cb76a-ad59-4a0e-c93c-5c17a57c7410"
      },
      "source": [
        "import sys\n",
        "print(sys.version)"
      ],
      "execution_count": 2,
      "outputs": [
        {
          "output_type": "stream",
          "name": "stdout",
          "text": [
            "3.7.11 (default, Jul  3 2021, 18:01:19) \n",
            "[GCC 7.5.0]\n"
          ]
        }
      ]
    },
    {
      "cell_type": "code",
      "metadata": {
        "colab": {
          "base_uri": "https://localhost:8080/"
        },
        "id": "rSsqMYCmKb8R",
        "outputId": "4fdf2090-4e13-4fde-843d-f38ed73dbcbf"
      },
      "source": [
        "import pandas as pd \n",
        "print(pd.__version__)"
      ],
      "execution_count": 3,
      "outputs": [
        {
          "output_type": "stream",
          "name": "stdout",
          "text": [
            "1.1.5\n"
          ]
        }
      ]
    },
    {
      "cell_type": "markdown",
      "metadata": {
        "id": "0lFWvax4LMQO"
      },
      "source": [
        "kaggle train data set 받아오기 \n",
        "\n",
        "\n",
        "https://www.kaggle.com/c/titanic/data?select=train.csv\n"
      ]
    },
    {
      "cell_type": "code",
      "metadata": {
        "colab": {
          "base_uri": "https://localhost:8080/",
          "height": 422
        },
        "id": "VjEZRdBkKiSK",
        "outputId": "252f7126-ef5a-4a2d-c8b0-79f52149d6d4"
      },
      "source": [
        "dft =pd.read_csv('train.csv')\n",
        "dft.info()"
      ],
      "execution_count": 4,
      "outputs": [
        {
          "output_type": "error",
          "ename": "FileNotFoundError",
          "evalue": "ignored",
          "traceback": [
            "\u001b[0;31m---------------------------------------------------------------------------\u001b[0m",
            "\u001b[0;31mFileNotFoundError\u001b[0m                         Traceback (most recent call last)",
            "\u001b[0;32m<ipython-input-4-941732de5427>\u001b[0m in \u001b[0;36m<module>\u001b[0;34m()\u001b[0m\n\u001b[0;32m----> 1\u001b[0;31m \u001b[0mdft\u001b[0m \u001b[0;34m=\u001b[0m\u001b[0mpd\u001b[0m\u001b[0;34m.\u001b[0m\u001b[0mread_csv\u001b[0m\u001b[0;34m(\u001b[0m\u001b[0;34m'train.csv'\u001b[0m\u001b[0;34m)\u001b[0m\u001b[0;34m\u001b[0m\u001b[0;34m\u001b[0m\u001b[0m\n\u001b[0m\u001b[1;32m      2\u001b[0m \u001b[0mdft\u001b[0m\u001b[0;34m.\u001b[0m\u001b[0minfo\u001b[0m\u001b[0;34m(\u001b[0m\u001b[0;34m)\u001b[0m\u001b[0;34m\u001b[0m\u001b[0;34m\u001b[0m\u001b[0m\n",
            "\u001b[0;32m/usr/local/lib/python3.7/dist-packages/pandas/io/parsers.py\u001b[0m in \u001b[0;36mread_csv\u001b[0;34m(filepath_or_buffer, sep, delimiter, header, names, index_col, usecols, squeeze, prefix, mangle_dupe_cols, dtype, engine, converters, true_values, false_values, skipinitialspace, skiprows, skipfooter, nrows, na_values, keep_default_na, na_filter, verbose, skip_blank_lines, parse_dates, infer_datetime_format, keep_date_col, date_parser, dayfirst, cache_dates, iterator, chunksize, compression, thousands, decimal, lineterminator, quotechar, quoting, doublequote, escapechar, comment, encoding, dialect, error_bad_lines, warn_bad_lines, delim_whitespace, low_memory, memory_map, float_precision)\u001b[0m\n\u001b[1;32m    686\u001b[0m     )\n\u001b[1;32m    687\u001b[0m \u001b[0;34m\u001b[0m\u001b[0m\n\u001b[0;32m--> 688\u001b[0;31m     \u001b[0;32mreturn\u001b[0m \u001b[0m_read\u001b[0m\u001b[0;34m(\u001b[0m\u001b[0mfilepath_or_buffer\u001b[0m\u001b[0;34m,\u001b[0m \u001b[0mkwds\u001b[0m\u001b[0;34m)\u001b[0m\u001b[0;34m\u001b[0m\u001b[0;34m\u001b[0m\u001b[0m\n\u001b[0m\u001b[1;32m    689\u001b[0m \u001b[0;34m\u001b[0m\u001b[0m\n\u001b[1;32m    690\u001b[0m \u001b[0;34m\u001b[0m\u001b[0m\n",
            "\u001b[0;32m/usr/local/lib/python3.7/dist-packages/pandas/io/parsers.py\u001b[0m in \u001b[0;36m_read\u001b[0;34m(filepath_or_buffer, kwds)\u001b[0m\n\u001b[1;32m    452\u001b[0m \u001b[0;34m\u001b[0m\u001b[0m\n\u001b[1;32m    453\u001b[0m     \u001b[0;31m# Create the parser.\u001b[0m\u001b[0;34m\u001b[0m\u001b[0;34m\u001b[0m\u001b[0;34m\u001b[0m\u001b[0m\n\u001b[0;32m--> 454\u001b[0;31m     \u001b[0mparser\u001b[0m \u001b[0;34m=\u001b[0m \u001b[0mTextFileReader\u001b[0m\u001b[0;34m(\u001b[0m\u001b[0mfp_or_buf\u001b[0m\u001b[0;34m,\u001b[0m \u001b[0;34m**\u001b[0m\u001b[0mkwds\u001b[0m\u001b[0;34m)\u001b[0m\u001b[0;34m\u001b[0m\u001b[0;34m\u001b[0m\u001b[0m\n\u001b[0m\u001b[1;32m    455\u001b[0m \u001b[0;34m\u001b[0m\u001b[0m\n\u001b[1;32m    456\u001b[0m     \u001b[0;32mif\u001b[0m \u001b[0mchunksize\u001b[0m \u001b[0;32mor\u001b[0m \u001b[0miterator\u001b[0m\u001b[0;34m:\u001b[0m\u001b[0;34m\u001b[0m\u001b[0;34m\u001b[0m\u001b[0m\n",
            "\u001b[0;32m/usr/local/lib/python3.7/dist-packages/pandas/io/parsers.py\u001b[0m in \u001b[0;36m__init__\u001b[0;34m(self, f, engine, **kwds)\u001b[0m\n\u001b[1;32m    946\u001b[0m             \u001b[0mself\u001b[0m\u001b[0;34m.\u001b[0m\u001b[0moptions\u001b[0m\u001b[0;34m[\u001b[0m\u001b[0;34m\"has_index_names\"\u001b[0m\u001b[0;34m]\u001b[0m \u001b[0;34m=\u001b[0m \u001b[0mkwds\u001b[0m\u001b[0;34m[\u001b[0m\u001b[0;34m\"has_index_names\"\u001b[0m\u001b[0;34m]\u001b[0m\u001b[0;34m\u001b[0m\u001b[0;34m\u001b[0m\u001b[0m\n\u001b[1;32m    947\u001b[0m \u001b[0;34m\u001b[0m\u001b[0m\n\u001b[0;32m--> 948\u001b[0;31m         \u001b[0mself\u001b[0m\u001b[0;34m.\u001b[0m\u001b[0m_make_engine\u001b[0m\u001b[0;34m(\u001b[0m\u001b[0mself\u001b[0m\u001b[0;34m.\u001b[0m\u001b[0mengine\u001b[0m\u001b[0;34m)\u001b[0m\u001b[0;34m\u001b[0m\u001b[0;34m\u001b[0m\u001b[0m\n\u001b[0m\u001b[1;32m    949\u001b[0m \u001b[0;34m\u001b[0m\u001b[0m\n\u001b[1;32m    950\u001b[0m     \u001b[0;32mdef\u001b[0m \u001b[0mclose\u001b[0m\u001b[0;34m(\u001b[0m\u001b[0mself\u001b[0m\u001b[0;34m)\u001b[0m\u001b[0;34m:\u001b[0m\u001b[0;34m\u001b[0m\u001b[0;34m\u001b[0m\u001b[0m\n",
            "\u001b[0;32m/usr/local/lib/python3.7/dist-packages/pandas/io/parsers.py\u001b[0m in \u001b[0;36m_make_engine\u001b[0;34m(self, engine)\u001b[0m\n\u001b[1;32m   1178\u001b[0m     \u001b[0;32mdef\u001b[0m \u001b[0m_make_engine\u001b[0m\u001b[0;34m(\u001b[0m\u001b[0mself\u001b[0m\u001b[0;34m,\u001b[0m \u001b[0mengine\u001b[0m\u001b[0;34m=\u001b[0m\u001b[0;34m\"c\"\u001b[0m\u001b[0;34m)\u001b[0m\u001b[0;34m:\u001b[0m\u001b[0;34m\u001b[0m\u001b[0;34m\u001b[0m\u001b[0m\n\u001b[1;32m   1179\u001b[0m         \u001b[0;32mif\u001b[0m \u001b[0mengine\u001b[0m \u001b[0;34m==\u001b[0m \u001b[0;34m\"c\"\u001b[0m\u001b[0;34m:\u001b[0m\u001b[0;34m\u001b[0m\u001b[0;34m\u001b[0m\u001b[0m\n\u001b[0;32m-> 1180\u001b[0;31m             \u001b[0mself\u001b[0m\u001b[0;34m.\u001b[0m\u001b[0m_engine\u001b[0m \u001b[0;34m=\u001b[0m \u001b[0mCParserWrapper\u001b[0m\u001b[0;34m(\u001b[0m\u001b[0mself\u001b[0m\u001b[0;34m.\u001b[0m\u001b[0mf\u001b[0m\u001b[0;34m,\u001b[0m \u001b[0;34m**\u001b[0m\u001b[0mself\u001b[0m\u001b[0;34m.\u001b[0m\u001b[0moptions\u001b[0m\u001b[0;34m)\u001b[0m\u001b[0;34m\u001b[0m\u001b[0;34m\u001b[0m\u001b[0m\n\u001b[0m\u001b[1;32m   1181\u001b[0m         \u001b[0;32melse\u001b[0m\u001b[0;34m:\u001b[0m\u001b[0;34m\u001b[0m\u001b[0;34m\u001b[0m\u001b[0m\n\u001b[1;32m   1182\u001b[0m             \u001b[0;32mif\u001b[0m \u001b[0mengine\u001b[0m \u001b[0;34m==\u001b[0m \u001b[0;34m\"python\"\u001b[0m\u001b[0;34m:\u001b[0m\u001b[0;34m\u001b[0m\u001b[0;34m\u001b[0m\u001b[0m\n",
            "\u001b[0;32m/usr/local/lib/python3.7/dist-packages/pandas/io/parsers.py\u001b[0m in \u001b[0;36m__init__\u001b[0;34m(self, src, **kwds)\u001b[0m\n\u001b[1;32m   2008\u001b[0m         \u001b[0mkwds\u001b[0m\u001b[0;34m[\u001b[0m\u001b[0;34m\"usecols\"\u001b[0m\u001b[0;34m]\u001b[0m \u001b[0;34m=\u001b[0m \u001b[0mself\u001b[0m\u001b[0;34m.\u001b[0m\u001b[0musecols\u001b[0m\u001b[0;34m\u001b[0m\u001b[0;34m\u001b[0m\u001b[0m\n\u001b[1;32m   2009\u001b[0m \u001b[0;34m\u001b[0m\u001b[0m\n\u001b[0;32m-> 2010\u001b[0;31m         \u001b[0mself\u001b[0m\u001b[0;34m.\u001b[0m\u001b[0m_reader\u001b[0m \u001b[0;34m=\u001b[0m \u001b[0mparsers\u001b[0m\u001b[0;34m.\u001b[0m\u001b[0mTextReader\u001b[0m\u001b[0;34m(\u001b[0m\u001b[0msrc\u001b[0m\u001b[0;34m,\u001b[0m \u001b[0;34m**\u001b[0m\u001b[0mkwds\u001b[0m\u001b[0;34m)\u001b[0m\u001b[0;34m\u001b[0m\u001b[0;34m\u001b[0m\u001b[0m\n\u001b[0m\u001b[1;32m   2011\u001b[0m         \u001b[0mself\u001b[0m\u001b[0;34m.\u001b[0m\u001b[0munnamed_cols\u001b[0m \u001b[0;34m=\u001b[0m \u001b[0mself\u001b[0m\u001b[0;34m.\u001b[0m\u001b[0m_reader\u001b[0m\u001b[0;34m.\u001b[0m\u001b[0munnamed_cols\u001b[0m\u001b[0;34m\u001b[0m\u001b[0;34m\u001b[0m\u001b[0m\n\u001b[1;32m   2012\u001b[0m \u001b[0;34m\u001b[0m\u001b[0m\n",
            "\u001b[0;32mpandas/_libs/parsers.pyx\u001b[0m in \u001b[0;36mpandas._libs.parsers.TextReader.__cinit__\u001b[0;34m()\u001b[0m\n",
            "\u001b[0;32mpandas/_libs/parsers.pyx\u001b[0m in \u001b[0;36mpandas._libs.parsers.TextReader._setup_parser_source\u001b[0;34m()\u001b[0m\n",
            "\u001b[0;31mFileNotFoundError\u001b[0m: [Errno 2] No such file or directory: 'train.csv'"
          ]
        }
      ]
    },
    {
      "cell_type": "code",
      "metadata": {
        "id": "as455voNLYCT"
      },
      "source": [
        "print(dft.head(3))"
      ],
      "execution_count": null,
      "outputs": []
    },
    {
      "cell_type": "code",
      "metadata": {
        "id": "kPMqgj58Mgab"
      },
      "source": [
        "print(dft.head(3).to_markdown())"
      ],
      "execution_count": null,
      "outputs": []
    },
    {
      "cell_type": "code",
      "metadata": {
        "id": "81XCln4PMr0v"
      },
      "source": [
        "s = pd.Series([1, 2, None])\n",
        "print(s)"
      ],
      "execution_count": null,
      "outputs": []
    },
    {
      "cell_type": "code",
      "metadata": {
        "id": "8YXibkhqMz8o"
      },
      "source": [
        "s = pd.Series([1, 2, None], dtype='Int64')\n",
        "print(s)"
      ],
      "execution_count": null,
      "outputs": []
    },
    {
      "cell_type": "code",
      "metadata": {
        "id": "IqlpxIv0M5n9"
      },
      "source": [
        "for i in range(3):\n",
        "  if s.iloc[i] == pd.NA:\n",
        "    print('NA found!')\n",
        "#지원안함"
      ],
      "execution_count": null,
      "outputs": []
    },
    {
      "cell_type": "code",
      "metadata": {
        "id": "Ie7OQhikM9PH"
      },
      "source": [
        "if s.isna().any():\n",
        "  print('NA found!')"
      ],
      "execution_count": null,
      "outputs": []
    },
    {
      "cell_type": "code",
      "metadata": {
        "id": "-YPpOkGONA5p"
      },
      "source": [
        "s = pd.Series([True, False, np.nan])\n",
        "print(s)"
      ],
      "execution_count": null,
      "outputs": []
    },
    {
      "cell_type": "code",
      "metadata": {
        "id": "6Xu2Mvv9NUaa"
      },
      "source": [
        "s = pd.Series([True, False, np.nan], dtype='boolean')\n",
        "print(s)"
      ],
      "execution_count": null,
      "outputs": []
    },
    {
      "cell_type": "code",
      "metadata": {
        "id": "T1HcWqC2NWPW"
      },
      "source": [
        "\n",
        "s = pd.Series(['abc', None, 'def'])\n",
        "print(s)"
      ],
      "execution_count": null,
      "outputs": []
    },
    {
      "cell_type": "code",
      "metadata": {
        "id": "l9v-T5FnNfsi"
      },
      "source": [
        "s = pd.Series(['abc', None, 'def'], dtype=\"string\")\n",
        "print(s)"
      ],
      "execution_count": null,
      "outputs": []
    },
    {
      "cell_type": "code",
      "metadata": {
        "id": "rk3ftG1SNkE6"
      },
      "source": [
        "df = pd.DataFrame(\n",
        "    {\n",
        "        \"a\": pd.Series([1, 2, 3], dtype=np.dtype(\"int32\")),\n",
        "        \"b\": pd.Series([\"x\", \"y\", \"z\"], dtype=np.dtype(\"O\")),\n",
        "        \"c\": pd.Series([True, False, np.nan], dtype=np.dtype(\"O\")),\n",
        "        \"d\": pd.Series([\"h\", \"i\", np.nan], dtype=np.dtype(\"O\")),\n",
        "        \"e\": pd.Series([10, np.nan, 20], dtype=np.dtype(\"float\")),\n",
        "        \"f\": pd.Series([np.nan, 100.5, 200], dtype=np.dtype(\"float\")),\n",
        "    }\n",
        ")\n",
        "print(df.to_markdown())\n",
        "print(df.dtypes)"
      ],
      "execution_count": null,
      "outputs": []
    },
    {
      "cell_type": "code",
      "metadata": {
        "id": "x6zswt0PNulN"
      },
      "source": [
        "dfn = df.convert_dtypes()\n",
        "print(dfn.to_markdown())\n",
        "print(dfn.dtypes)\n",
        "#stringtype nonstring이 같이 처리되는것을 방지 (기존까지는 object로 처리되었었음)"
      ],
      "execution_count": null,
      "outputs": []
    },
    {
      "cell_type": "code",
      "metadata": {
        "id": "sCKNBBLxNxNL"
      },
      "source": [
        ""
      ],
      "execution_count": null,
      "outputs": []
    }
  ]
}